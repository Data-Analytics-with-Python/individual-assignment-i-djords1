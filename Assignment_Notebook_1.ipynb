{
  "nbformat": 4,
  "nbformat_minor": 0,
  "metadata": {
    "colab": {
      "provenance": [],
      "include_colab_link": true
    },
    "kernelspec": {
      "name": "python3",
      "display_name": "Python 3"
    },
    "language_info": {
      "name": "python"
    }
  },
  "cells": [
    {
      "cell_type": "markdown",
      "metadata": {
        "id": "view-in-github",
        "colab_type": "text"
      },
      "source": [
        "<a href=\"https://colab.research.google.com/github/Data-Analytics-with-Python/individual-assignment-i-djords1/blob/main/Assignment_Notebook_1.ipynb\" target=\"_parent\"><img src=\"https://colab.research.google.com/assets/colab-badge.svg\" alt=\"Open In Colab\"/></a>"
      ]
    },
    {
      "cell_type": "markdown",
      "source": [
        "IMPORTANT: Before you start, enter your name and student number below.\n",
        "\n",
        "**Full Name:** Sofia Djordjevic\n",
        "\n",
        "**Student Number:** 400310764"
      ],
      "metadata": {
        "id": "IbL5ndOg7fSr"
      }
    },
    {
      "cell_type": "markdown",
      "source": [
        "# Exploring Customer Data with Pandas\n",
        "\n",
        "Use the provided Nata Supermarkets dataset to answer the following questions.\n",
        "Your goal is to use Pandas operations to explore, clean, and summarize the data, and to draw a few simple insights about customer demographics and behavior."
      ],
      "metadata": {
        "id": "wX9l9nahNpbI"
      }
    },
    {
      "cell_type": "markdown",
      "source": [
        "Please complete all task requested and answer all questions explicitly and support your answers with Python codes. Insert code and text cells as you need."
      ],
      "metadata": {
        "id": "5BaaZYnXNy6n"
      }
    },
    {
      "cell_type": "markdown",
      "source": [
        "## 1. Inspecting and loading the Data (10pts)\n",
        "\n",
        "* Save the dataset in the case supplementary file (in Excel) as a csv file and save it in a public GitHub repository.\n",
        "\n",
        "* Load the dataset as a pandas data frame and display the first few rows.\n",
        "\n",
        "    * How many features (columns) and records (rows) are in the dataset?"
      ],
      "metadata": {
        "id": "8Zpp2bkoNwvT"
      }
    },
    {
      "cell_type": "code",
      "source": [
        "import pandas as pd\n",
        "df_customers = pd.read_csv('/content/customer_dataset.csv')\n",
        "print(str(df_customers.shape[0]) + \" rows.\\n\" + str(df_customers.shape[1]) + \" columns.\")\n",
        "df_customers.head(10)"
      ],
      "metadata": {
        "id": "KfdKIE4tOzTJ",
        "colab": {
          "base_uri": "https://localhost:8080/",
          "height": 448
        },
        "outputId": "4f036a36-a761-4b0d-a32a-3653f8d5b3ad"
      },
      "execution_count": 16,
      "outputs": [
        {
          "output_type": "stream",
          "name": "stdout",
          "text": [
            "2240 rows.\n",
            "29 columns.\n"
          ]
        },
        {
          "output_type": "execute_result",
          "data": {
            "text/plain": [
              "     ID  Year_Birth   Education Marital_Status   Income  Kidhome  Teenhome  \\\n",
              "0  5524        1957  Graduation         Single  58138.0        0         0   \n",
              "1  2174        1954  Graduation         Single  46344.0        1         1   \n",
              "2  4141        1965  Graduation       Together  71613.0        0         0   \n",
              "3  6182        1984  Graduation       Together  26646.0        1         0   \n",
              "4  5324        1981         PhD        Married  58293.0        1         0   \n",
              "5  7446        1967      Master       Together  62513.0        0         1   \n",
              "6   965        1971  Graduation       Divorced  55635.0        0         1   \n",
              "7  6177        1985         PhD        Married  33454.0        1         0   \n",
              "8  4855        1974         PhD       Together  30351.0        1         0   \n",
              "9  5899        1950         PhD       Together   5648.0        1         1   \n",
              "\n",
              "  Dt_Customer  Recency  MntWines  ...  NumWebVisitsMonth  AcceptedCmp3  \\\n",
              "0  2012-04-09       58       635  ...                  7             0   \n",
              "1  2014-08-03       38        11  ...                  5             0   \n",
              "2  21-08-2013       26       426  ...                  4             0   \n",
              "3  2014-10-02       26        11  ...                  6             0   \n",
              "4  19-01-2014       94       173  ...                  5             0   \n",
              "5  2013-09-09       16       520  ...                  6             0   \n",
              "6  13-11-2012       34       235  ...                  6             0   \n",
              "7  2013-08-05       32        76  ...                  8             0   \n",
              "8  2013-06-06       19        14  ...                  9             0   \n",
              "9  13-03-2014       68        28  ...                 20             1   \n",
              "\n",
              "   AcceptedCmp4  AcceptedCmp5  AcceptedCmp1  AcceptedCmp2  Complain  \\\n",
              "0             0             0             0             0         0   \n",
              "1             0             0             0             0         0   \n",
              "2             0             0             0             0         0   \n",
              "3             0             0             0             0         0   \n",
              "4             0             0             0             0         0   \n",
              "5             0             0             0             0         0   \n",
              "6             0             0             0             0         0   \n",
              "7             0             0             0             0         0   \n",
              "8             0             0             0             0         0   \n",
              "9             0             0             0             0         0   \n",
              "\n",
              "   Z_CostContact  Z_Revenue  Response  \n",
              "0              3         11         1  \n",
              "1              3         11         0  \n",
              "2              3         11         0  \n",
              "3              3         11         0  \n",
              "4              3         11         0  \n",
              "5              3         11         0  \n",
              "6              3         11         0  \n",
              "7              3         11         0  \n",
              "8              3         11         1  \n",
              "9              3         11         0  \n",
              "\n",
              "[10 rows x 29 columns]"
            ],
            "text/html": [
              "\n",
              "  <div id=\"df-cc3d7ca2-75aa-4dce-9a20-0c2926e8e548\" class=\"colab-df-container\">\n",
              "    <div>\n",
              "<style scoped>\n",
              "    .dataframe tbody tr th:only-of-type {\n",
              "        vertical-align: middle;\n",
              "    }\n",
              "\n",
              "    .dataframe tbody tr th {\n",
              "        vertical-align: top;\n",
              "    }\n",
              "\n",
              "    .dataframe thead th {\n",
              "        text-align: right;\n",
              "    }\n",
              "</style>\n",
              "<table border=\"1\" class=\"dataframe\">\n",
              "  <thead>\n",
              "    <tr style=\"text-align: right;\">\n",
              "      <th></th>\n",
              "      <th>ID</th>\n",
              "      <th>Year_Birth</th>\n",
              "      <th>Education</th>\n",
              "      <th>Marital_Status</th>\n",
              "      <th>Income</th>\n",
              "      <th>Kidhome</th>\n",
              "      <th>Teenhome</th>\n",
              "      <th>Dt_Customer</th>\n",
              "      <th>Recency</th>\n",
              "      <th>MntWines</th>\n",
              "      <th>...</th>\n",
              "      <th>NumWebVisitsMonth</th>\n",
              "      <th>AcceptedCmp3</th>\n",
              "      <th>AcceptedCmp4</th>\n",
              "      <th>AcceptedCmp5</th>\n",
              "      <th>AcceptedCmp1</th>\n",
              "      <th>AcceptedCmp2</th>\n",
              "      <th>Complain</th>\n",
              "      <th>Z_CostContact</th>\n",
              "      <th>Z_Revenue</th>\n",
              "      <th>Response</th>\n",
              "    </tr>\n",
              "  </thead>\n",
              "  <tbody>\n",
              "    <tr>\n",
              "      <th>0</th>\n",
              "      <td>5524</td>\n",
              "      <td>1957</td>\n",
              "      <td>Graduation</td>\n",
              "      <td>Single</td>\n",
              "      <td>58138.0</td>\n",
              "      <td>0</td>\n",
              "      <td>0</td>\n",
              "      <td>2012-04-09</td>\n",
              "      <td>58</td>\n",
              "      <td>635</td>\n",
              "      <td>...</td>\n",
              "      <td>7</td>\n",
              "      <td>0</td>\n",
              "      <td>0</td>\n",
              "      <td>0</td>\n",
              "      <td>0</td>\n",
              "      <td>0</td>\n",
              "      <td>0</td>\n",
              "      <td>3</td>\n",
              "      <td>11</td>\n",
              "      <td>1</td>\n",
              "    </tr>\n",
              "    <tr>\n",
              "      <th>1</th>\n",
              "      <td>2174</td>\n",
              "      <td>1954</td>\n",
              "      <td>Graduation</td>\n",
              "      <td>Single</td>\n",
              "      <td>46344.0</td>\n",
              "      <td>1</td>\n",
              "      <td>1</td>\n",
              "      <td>2014-08-03</td>\n",
              "      <td>38</td>\n",
              "      <td>11</td>\n",
              "      <td>...</td>\n",
              "      <td>5</td>\n",
              "      <td>0</td>\n",
              "      <td>0</td>\n",
              "      <td>0</td>\n",
              "      <td>0</td>\n",
              "      <td>0</td>\n",
              "      <td>0</td>\n",
              "      <td>3</td>\n",
              "      <td>11</td>\n",
              "      <td>0</td>\n",
              "    </tr>\n",
              "    <tr>\n",
              "      <th>2</th>\n",
              "      <td>4141</td>\n",
              "      <td>1965</td>\n",
              "      <td>Graduation</td>\n",
              "      <td>Together</td>\n",
              "      <td>71613.0</td>\n",
              "      <td>0</td>\n",
              "      <td>0</td>\n",
              "      <td>21-08-2013</td>\n",
              "      <td>26</td>\n",
              "      <td>426</td>\n",
              "      <td>...</td>\n",
              "      <td>4</td>\n",
              "      <td>0</td>\n",
              "      <td>0</td>\n",
              "      <td>0</td>\n",
              "      <td>0</td>\n",
              "      <td>0</td>\n",
              "      <td>0</td>\n",
              "      <td>3</td>\n",
              "      <td>11</td>\n",
              "      <td>0</td>\n",
              "    </tr>\n",
              "    <tr>\n",
              "      <th>3</th>\n",
              "      <td>6182</td>\n",
              "      <td>1984</td>\n",
              "      <td>Graduation</td>\n",
              "      <td>Together</td>\n",
              "      <td>26646.0</td>\n",
              "      <td>1</td>\n",
              "      <td>0</td>\n",
              "      <td>2014-10-02</td>\n",
              "      <td>26</td>\n",
              "      <td>11</td>\n",
              "      <td>...</td>\n",
              "      <td>6</td>\n",
              "      <td>0</td>\n",
              "      <td>0</td>\n",
              "      <td>0</td>\n",
              "      <td>0</td>\n",
              "      <td>0</td>\n",
              "      <td>0</td>\n",
              "      <td>3</td>\n",
              "      <td>11</td>\n",
              "      <td>0</td>\n",
              "    </tr>\n",
              "    <tr>\n",
              "      <th>4</th>\n",
              "      <td>5324</td>\n",
              "      <td>1981</td>\n",
              "      <td>PhD</td>\n",
              "      <td>Married</td>\n",
              "      <td>58293.0</td>\n",
              "      <td>1</td>\n",
              "      <td>0</td>\n",
              "      <td>19-01-2014</td>\n",
              "      <td>94</td>\n",
              "      <td>173</td>\n",
              "      <td>...</td>\n",
              "      <td>5</td>\n",
              "      <td>0</td>\n",
              "      <td>0</td>\n",
              "      <td>0</td>\n",
              "      <td>0</td>\n",
              "      <td>0</td>\n",
              "      <td>0</td>\n",
              "      <td>3</td>\n",
              "      <td>11</td>\n",
              "      <td>0</td>\n",
              "    </tr>\n",
              "    <tr>\n",
              "      <th>5</th>\n",
              "      <td>7446</td>\n",
              "      <td>1967</td>\n",
              "      <td>Master</td>\n",
              "      <td>Together</td>\n",
              "      <td>62513.0</td>\n",
              "      <td>0</td>\n",
              "      <td>1</td>\n",
              "      <td>2013-09-09</td>\n",
              "      <td>16</td>\n",
              "      <td>520</td>\n",
              "      <td>...</td>\n",
              "      <td>6</td>\n",
              "      <td>0</td>\n",
              "      <td>0</td>\n",
              "      <td>0</td>\n",
              "      <td>0</td>\n",
              "      <td>0</td>\n",
              "      <td>0</td>\n",
              "      <td>3</td>\n",
              "      <td>11</td>\n",
              "      <td>0</td>\n",
              "    </tr>\n",
              "    <tr>\n",
              "      <th>6</th>\n",
              "      <td>965</td>\n",
              "      <td>1971</td>\n",
              "      <td>Graduation</td>\n",
              "      <td>Divorced</td>\n",
              "      <td>55635.0</td>\n",
              "      <td>0</td>\n",
              "      <td>1</td>\n",
              "      <td>13-11-2012</td>\n",
              "      <td>34</td>\n",
              "      <td>235</td>\n",
              "      <td>...</td>\n",
              "      <td>6</td>\n",
              "      <td>0</td>\n",
              "      <td>0</td>\n",
              "      <td>0</td>\n",
              "      <td>0</td>\n",
              "      <td>0</td>\n",
              "      <td>0</td>\n",
              "      <td>3</td>\n",
              "      <td>11</td>\n",
              "      <td>0</td>\n",
              "    </tr>\n",
              "    <tr>\n",
              "      <th>7</th>\n",
              "      <td>6177</td>\n",
              "      <td>1985</td>\n",
              "      <td>PhD</td>\n",
              "      <td>Married</td>\n",
              "      <td>33454.0</td>\n",
              "      <td>1</td>\n",
              "      <td>0</td>\n",
              "      <td>2013-08-05</td>\n",
              "      <td>32</td>\n",
              "      <td>76</td>\n",
              "      <td>...</td>\n",
              "      <td>8</td>\n",
              "      <td>0</td>\n",
              "      <td>0</td>\n",
              "      <td>0</td>\n",
              "      <td>0</td>\n",
              "      <td>0</td>\n",
              "      <td>0</td>\n",
              "      <td>3</td>\n",
              "      <td>11</td>\n",
              "      <td>0</td>\n",
              "    </tr>\n",
              "    <tr>\n",
              "      <th>8</th>\n",
              "      <td>4855</td>\n",
              "      <td>1974</td>\n",
              "      <td>PhD</td>\n",
              "      <td>Together</td>\n",
              "      <td>30351.0</td>\n",
              "      <td>1</td>\n",
              "      <td>0</td>\n",
              "      <td>2013-06-06</td>\n",
              "      <td>19</td>\n",
              "      <td>14</td>\n",
              "      <td>...</td>\n",
              "      <td>9</td>\n",
              "      <td>0</td>\n",
              "      <td>0</td>\n",
              "      <td>0</td>\n",
              "      <td>0</td>\n",
              "      <td>0</td>\n",
              "      <td>0</td>\n",
              "      <td>3</td>\n",
              "      <td>11</td>\n",
              "      <td>1</td>\n",
              "    </tr>\n",
              "    <tr>\n",
              "      <th>9</th>\n",
              "      <td>5899</td>\n",
              "      <td>1950</td>\n",
              "      <td>PhD</td>\n",
              "      <td>Together</td>\n",
              "      <td>5648.0</td>\n",
              "      <td>1</td>\n",
              "      <td>1</td>\n",
              "      <td>13-03-2014</td>\n",
              "      <td>68</td>\n",
              "      <td>28</td>\n",
              "      <td>...</td>\n",
              "      <td>20</td>\n",
              "      <td>1</td>\n",
              "      <td>0</td>\n",
              "      <td>0</td>\n",
              "      <td>0</td>\n",
              "      <td>0</td>\n",
              "      <td>0</td>\n",
              "      <td>3</td>\n",
              "      <td>11</td>\n",
              "      <td>0</td>\n",
              "    </tr>\n",
              "  </tbody>\n",
              "</table>\n",
              "<p>10 rows × 29 columns</p>\n",
              "</div>\n",
              "    <div class=\"colab-df-buttons\">\n",
              "\n",
              "  <div class=\"colab-df-container\">\n",
              "    <button class=\"colab-df-convert\" onclick=\"convertToInteractive('df-cc3d7ca2-75aa-4dce-9a20-0c2926e8e548')\"\n",
              "            title=\"Convert this dataframe to an interactive table.\"\n",
              "            style=\"display:none;\">\n",
              "\n",
              "  <svg xmlns=\"http://www.w3.org/2000/svg\" height=\"24px\" viewBox=\"0 -960 960 960\">\n",
              "    <path d=\"M120-120v-720h720v720H120Zm60-500h600v-160H180v160Zm220 220h160v-160H400v160Zm0 220h160v-160H400v160ZM180-400h160v-160H180v160Zm440 0h160v-160H620v160ZM180-180h160v-160H180v160Zm440 0h160v-160H620v160Z\"/>\n",
              "  </svg>\n",
              "    </button>\n",
              "\n",
              "  <style>\n",
              "    .colab-df-container {\n",
              "      display:flex;\n",
              "      gap: 12px;\n",
              "    }\n",
              "\n",
              "    .colab-df-convert {\n",
              "      background-color: #E8F0FE;\n",
              "      border: none;\n",
              "      border-radius: 50%;\n",
              "      cursor: pointer;\n",
              "      display: none;\n",
              "      fill: #1967D2;\n",
              "      height: 32px;\n",
              "      padding: 0 0 0 0;\n",
              "      width: 32px;\n",
              "    }\n",
              "\n",
              "    .colab-df-convert:hover {\n",
              "      background-color: #E2EBFA;\n",
              "      box-shadow: 0px 1px 2px rgba(60, 64, 67, 0.3), 0px 1px 3px 1px rgba(60, 64, 67, 0.15);\n",
              "      fill: #174EA6;\n",
              "    }\n",
              "\n",
              "    .colab-df-buttons div {\n",
              "      margin-bottom: 4px;\n",
              "    }\n",
              "\n",
              "    [theme=dark] .colab-df-convert {\n",
              "      background-color: #3B4455;\n",
              "      fill: #D2E3FC;\n",
              "    }\n",
              "\n",
              "    [theme=dark] .colab-df-convert:hover {\n",
              "      background-color: #434B5C;\n",
              "      box-shadow: 0px 1px 3px 1px rgba(0, 0, 0, 0.15);\n",
              "      filter: drop-shadow(0px 1px 2px rgba(0, 0, 0, 0.3));\n",
              "      fill: #FFFFFF;\n",
              "    }\n",
              "  </style>\n",
              "\n",
              "    <script>\n",
              "      const buttonEl =\n",
              "        document.querySelector('#df-cc3d7ca2-75aa-4dce-9a20-0c2926e8e548 button.colab-df-convert');\n",
              "      buttonEl.style.display =\n",
              "        google.colab.kernel.accessAllowed ? 'block' : 'none';\n",
              "\n",
              "      async function convertToInteractive(key) {\n",
              "        const element = document.querySelector('#df-cc3d7ca2-75aa-4dce-9a20-0c2926e8e548');\n",
              "        const dataTable =\n",
              "          await google.colab.kernel.invokeFunction('convertToInteractive',\n",
              "                                                    [key], {});\n",
              "        if (!dataTable) return;\n",
              "\n",
              "        const docLinkHtml = 'Like what you see? Visit the ' +\n",
              "          '<a target=\"_blank\" href=https://colab.research.google.com/notebooks/data_table.ipynb>data table notebook</a>'\n",
              "          + ' to learn more about interactive tables.';\n",
              "        element.innerHTML = '';\n",
              "        dataTable['output_type'] = 'display_data';\n",
              "        await google.colab.output.renderOutput(dataTable, element);\n",
              "        const docLink = document.createElement('div');\n",
              "        docLink.innerHTML = docLinkHtml;\n",
              "        element.appendChild(docLink);\n",
              "      }\n",
              "    </script>\n",
              "  </div>\n",
              "\n",
              "\n",
              "    <div id=\"df-0cae6895-878d-4c88-be23-ff143f14448d\">\n",
              "      <button class=\"colab-df-quickchart\" onclick=\"quickchart('df-0cae6895-878d-4c88-be23-ff143f14448d')\"\n",
              "                title=\"Suggest charts\"\n",
              "                style=\"display:none;\">\n",
              "\n",
              "<svg xmlns=\"http://www.w3.org/2000/svg\" height=\"24px\"viewBox=\"0 0 24 24\"\n",
              "     width=\"24px\">\n",
              "    <g>\n",
              "        <path d=\"M19 3H5c-1.1 0-2 .9-2 2v14c0 1.1.9 2 2 2h14c1.1 0 2-.9 2-2V5c0-1.1-.9-2-2-2zM9 17H7v-7h2v7zm4 0h-2V7h2v10zm4 0h-2v-4h2v4z\"/>\n",
              "    </g>\n",
              "</svg>\n",
              "      </button>\n",
              "\n",
              "<style>\n",
              "  .colab-df-quickchart {\n",
              "      --bg-color: #E8F0FE;\n",
              "      --fill-color: #1967D2;\n",
              "      --hover-bg-color: #E2EBFA;\n",
              "      --hover-fill-color: #174EA6;\n",
              "      --disabled-fill-color: #AAA;\n",
              "      --disabled-bg-color: #DDD;\n",
              "  }\n",
              "\n",
              "  [theme=dark] .colab-df-quickchart {\n",
              "      --bg-color: #3B4455;\n",
              "      --fill-color: #D2E3FC;\n",
              "      --hover-bg-color: #434B5C;\n",
              "      --hover-fill-color: #FFFFFF;\n",
              "      --disabled-bg-color: #3B4455;\n",
              "      --disabled-fill-color: #666;\n",
              "  }\n",
              "\n",
              "  .colab-df-quickchart {\n",
              "    background-color: var(--bg-color);\n",
              "    border: none;\n",
              "    border-radius: 50%;\n",
              "    cursor: pointer;\n",
              "    display: none;\n",
              "    fill: var(--fill-color);\n",
              "    height: 32px;\n",
              "    padding: 0;\n",
              "    width: 32px;\n",
              "  }\n",
              "\n",
              "  .colab-df-quickchart:hover {\n",
              "    background-color: var(--hover-bg-color);\n",
              "    box-shadow: 0 1px 2px rgba(60, 64, 67, 0.3), 0 1px 3px 1px rgba(60, 64, 67, 0.15);\n",
              "    fill: var(--button-hover-fill-color);\n",
              "  }\n",
              "\n",
              "  .colab-df-quickchart-complete:disabled,\n",
              "  .colab-df-quickchart-complete:disabled:hover {\n",
              "    background-color: var(--disabled-bg-color);\n",
              "    fill: var(--disabled-fill-color);\n",
              "    box-shadow: none;\n",
              "  }\n",
              "\n",
              "  .colab-df-spinner {\n",
              "    border: 2px solid var(--fill-color);\n",
              "    border-color: transparent;\n",
              "    border-bottom-color: var(--fill-color);\n",
              "    animation:\n",
              "      spin 1s steps(1) infinite;\n",
              "  }\n",
              "\n",
              "  @keyframes spin {\n",
              "    0% {\n",
              "      border-color: transparent;\n",
              "      border-bottom-color: var(--fill-color);\n",
              "      border-left-color: var(--fill-color);\n",
              "    }\n",
              "    20% {\n",
              "      border-color: transparent;\n",
              "      border-left-color: var(--fill-color);\n",
              "      border-top-color: var(--fill-color);\n",
              "    }\n",
              "    30% {\n",
              "      border-color: transparent;\n",
              "      border-left-color: var(--fill-color);\n",
              "      border-top-color: var(--fill-color);\n",
              "      border-right-color: var(--fill-color);\n",
              "    }\n",
              "    40% {\n",
              "      border-color: transparent;\n",
              "      border-right-color: var(--fill-color);\n",
              "      border-top-color: var(--fill-color);\n",
              "    }\n",
              "    60% {\n",
              "      border-color: transparent;\n",
              "      border-right-color: var(--fill-color);\n",
              "    }\n",
              "    80% {\n",
              "      border-color: transparent;\n",
              "      border-right-color: var(--fill-color);\n",
              "      border-bottom-color: var(--fill-color);\n",
              "    }\n",
              "    90% {\n",
              "      border-color: transparent;\n",
              "      border-bottom-color: var(--fill-color);\n",
              "    }\n",
              "  }\n",
              "</style>\n",
              "\n",
              "      <script>\n",
              "        async function quickchart(key) {\n",
              "          const quickchartButtonEl =\n",
              "            document.querySelector('#' + key + ' button');\n",
              "          quickchartButtonEl.disabled = true;  // To prevent multiple clicks.\n",
              "          quickchartButtonEl.classList.add('colab-df-spinner');\n",
              "          try {\n",
              "            const charts = await google.colab.kernel.invokeFunction(\n",
              "                'suggestCharts', [key], {});\n",
              "          } catch (error) {\n",
              "            console.error('Error during call to suggestCharts:', error);\n",
              "          }\n",
              "          quickchartButtonEl.classList.remove('colab-df-spinner');\n",
              "          quickchartButtonEl.classList.add('colab-df-quickchart-complete');\n",
              "        }\n",
              "        (() => {\n",
              "          let quickchartButtonEl =\n",
              "            document.querySelector('#df-0cae6895-878d-4c88-be23-ff143f14448d button');\n",
              "          quickchartButtonEl.style.display =\n",
              "            google.colab.kernel.accessAllowed ? 'block' : 'none';\n",
              "        })();\n",
              "      </script>\n",
              "    </div>\n",
              "\n",
              "    </div>\n",
              "  </div>\n"
            ],
            "application/vnd.google.colaboratory.intrinsic+json": {
              "type": "dataframe",
              "variable_name": "df_customers"
            }
          },
          "metadata": {},
          "execution_count": 16
        }
      ]
    },
    {
      "cell_type": "markdown",
      "source": [
        "## 2. Data Cleaning and Missing Values (14pts)\n",
        "\n",
        "* Check for missing values across all columns.\n",
        "\n",
        "* Which columns contain missing data, and how many missing entries are there?\n",
        "\n",
        "* What strategies could you use to handle them (drop, fill, or ignore)? Apply one reasonable approach and explain your choice."
      ],
      "metadata": {
        "id": "i1oYYTjrO2Pd"
      }
    },
    {
      "cell_type": "code",
      "source": [
        "df_customers.isnull().sum()"
      ],
      "metadata": {
        "id": "S1j6pz8yPDFp",
        "colab": {
          "base_uri": "https://localhost:8080/",
          "height": 994
        },
        "outputId": "82a7d97a-3184-4c1c-d547-7d999fca760b"
      },
      "execution_count": 17,
      "outputs": [
        {
          "output_type": "execute_result",
          "data": {
            "text/plain": [
              "ID                      0\n",
              "Year_Birth              0\n",
              "Education               0\n",
              "Marital_Status          0\n",
              "Income                 24\n",
              "Kidhome                 0\n",
              "Teenhome                0\n",
              "Dt_Customer             0\n",
              "Recency                 0\n",
              "MntWines                0\n",
              "MntFruits               0\n",
              "MntMeatProducts         0\n",
              "MntFishProducts         0\n",
              "MntSweetProducts        0\n",
              "MntGoldProds            0\n",
              "NumDealsPurchases       0\n",
              "NumWebPurchases         0\n",
              "NumCatalogPurchases     0\n",
              "NumStorePurchases       0\n",
              "NumWebVisitsMonth       0\n",
              "AcceptedCmp3            0\n",
              "AcceptedCmp4            0\n",
              "AcceptedCmp5            0\n",
              "AcceptedCmp1            0\n",
              "AcceptedCmp2            0\n",
              "Complain                0\n",
              "Z_CostContact           0\n",
              "Z_Revenue               0\n",
              "Response                0\n",
              "dtype: int64"
            ],
            "text/html": [
              "<div>\n",
              "<style scoped>\n",
              "    .dataframe tbody tr th:only-of-type {\n",
              "        vertical-align: middle;\n",
              "    }\n",
              "\n",
              "    .dataframe tbody tr th {\n",
              "        vertical-align: top;\n",
              "    }\n",
              "\n",
              "    .dataframe thead th {\n",
              "        text-align: right;\n",
              "    }\n",
              "</style>\n",
              "<table border=\"1\" class=\"dataframe\">\n",
              "  <thead>\n",
              "    <tr style=\"text-align: right;\">\n",
              "      <th></th>\n",
              "      <th>0</th>\n",
              "    </tr>\n",
              "  </thead>\n",
              "  <tbody>\n",
              "    <tr>\n",
              "      <th>ID</th>\n",
              "      <td>0</td>\n",
              "    </tr>\n",
              "    <tr>\n",
              "      <th>Year_Birth</th>\n",
              "      <td>0</td>\n",
              "    </tr>\n",
              "    <tr>\n",
              "      <th>Education</th>\n",
              "      <td>0</td>\n",
              "    </tr>\n",
              "    <tr>\n",
              "      <th>Marital_Status</th>\n",
              "      <td>0</td>\n",
              "    </tr>\n",
              "    <tr>\n",
              "      <th>Income</th>\n",
              "      <td>24</td>\n",
              "    </tr>\n",
              "    <tr>\n",
              "      <th>Kidhome</th>\n",
              "      <td>0</td>\n",
              "    </tr>\n",
              "    <tr>\n",
              "      <th>Teenhome</th>\n",
              "      <td>0</td>\n",
              "    </tr>\n",
              "    <tr>\n",
              "      <th>Dt_Customer</th>\n",
              "      <td>0</td>\n",
              "    </tr>\n",
              "    <tr>\n",
              "      <th>Recency</th>\n",
              "      <td>0</td>\n",
              "    </tr>\n",
              "    <tr>\n",
              "      <th>MntWines</th>\n",
              "      <td>0</td>\n",
              "    </tr>\n",
              "    <tr>\n",
              "      <th>MntFruits</th>\n",
              "      <td>0</td>\n",
              "    </tr>\n",
              "    <tr>\n",
              "      <th>MntMeatProducts</th>\n",
              "      <td>0</td>\n",
              "    </tr>\n",
              "    <tr>\n",
              "      <th>MntFishProducts</th>\n",
              "      <td>0</td>\n",
              "    </tr>\n",
              "    <tr>\n",
              "      <th>MntSweetProducts</th>\n",
              "      <td>0</td>\n",
              "    </tr>\n",
              "    <tr>\n",
              "      <th>MntGoldProds</th>\n",
              "      <td>0</td>\n",
              "    </tr>\n",
              "    <tr>\n",
              "      <th>NumDealsPurchases</th>\n",
              "      <td>0</td>\n",
              "    </tr>\n",
              "    <tr>\n",
              "      <th>NumWebPurchases</th>\n",
              "      <td>0</td>\n",
              "    </tr>\n",
              "    <tr>\n",
              "      <th>NumCatalogPurchases</th>\n",
              "      <td>0</td>\n",
              "    </tr>\n",
              "    <tr>\n",
              "      <th>NumStorePurchases</th>\n",
              "      <td>0</td>\n",
              "    </tr>\n",
              "    <tr>\n",
              "      <th>NumWebVisitsMonth</th>\n",
              "      <td>0</td>\n",
              "    </tr>\n",
              "    <tr>\n",
              "      <th>AcceptedCmp3</th>\n",
              "      <td>0</td>\n",
              "    </tr>\n",
              "    <tr>\n",
              "      <th>AcceptedCmp4</th>\n",
              "      <td>0</td>\n",
              "    </tr>\n",
              "    <tr>\n",
              "      <th>AcceptedCmp5</th>\n",
              "      <td>0</td>\n",
              "    </tr>\n",
              "    <tr>\n",
              "      <th>AcceptedCmp1</th>\n",
              "      <td>0</td>\n",
              "    </tr>\n",
              "    <tr>\n",
              "      <th>AcceptedCmp2</th>\n",
              "      <td>0</td>\n",
              "    </tr>\n",
              "    <tr>\n",
              "      <th>Complain</th>\n",
              "      <td>0</td>\n",
              "    </tr>\n",
              "    <tr>\n",
              "      <th>Z_CostContact</th>\n",
              "      <td>0</td>\n",
              "    </tr>\n",
              "    <tr>\n",
              "      <th>Z_Revenue</th>\n",
              "      <td>0</td>\n",
              "    </tr>\n",
              "    <tr>\n",
              "      <th>Response</th>\n",
              "      <td>0</td>\n",
              "    </tr>\n",
              "  </tbody>\n",
              "</table>\n",
              "</div><br><label><b>dtype:</b> int64</label>"
            ]
          },
          "metadata": {},
          "execution_count": 17
        }
      ]
    },
    {
      "cell_type": "code",
      "metadata": {
        "id": "d7ca791a"
      },
      "source": [
        "median_income = df_customers['Income'].median()\n",
        "df_customers['Income'] = df_customers['Income'].fillna(median_income)"
      ],
      "execution_count": 14,
      "outputs": []
    },
    {
      "cell_type": "markdown",
      "source": [
        "The column that contains missing data is the \"Income\" column, and it has 24 missing entries.\n",
        "\n",
        "Strategies to handle missing data include:\n",
        "\n",
        "Dropping rows or columns: If the number of missing values is small relative to the dataset size or if the entire row/column is not crucial, you can drop them.\n",
        "\n",
        "Filling: Replacing missing values with estimated values.\n",
        "\n",
        "Ignoring missing values: Some models and analyses can handle missing values directly.\n",
        "\n",
        "For the 'Income' column with 24 missing entries out of 2240, dropping these rows would remove a small percentage of the data (less than 2%). Given that 'Income' is likely an important feature for customer analysis, filling the missing values might be a better approach than dropping. A reasonable strategy here is to fill the missing income values with the median income, as income distributions can be skewed and the median is less affected by outliers than the mean."
      ],
      "metadata": {
        "id": "kyZ9JspwzAoL"
      }
    },
    {
      "cell_type": "markdown",
      "source": [
        "## 3. Removing Constant Columns (14pts)\n",
        "\n",
        "* Identify any columns with constant values (no variance; all rows have the same value).\n",
        "\n",
        "* Drop them from your DataFrame and confirm how many columns remain."
      ],
      "metadata": {
        "id": "PGwCqmDvPGoe"
      }
    },
    {
      "cell_type": "code",
      "source": [
        "columns_to_drop = []\n",
        "print(\"These features have no variance and should be dropped:\")\n",
        "for col in df_customers.columns:\n",
        "  unique_values = df_customers[col].nunique()\n",
        "  if unique_values == 1:\n",
        "    print(col)\n",
        "    columns_to_drop.append(col)\n",
        "\n",
        "df_customers = df_customers.drop(columns=columns_to_drop)\n",
        "print('\\n' + str(df_customers.shape[1]) + ' columns remain in the DataFrame')"
      ],
      "metadata": {
        "id": "E4_oZUmZPZIV",
        "colab": {
          "base_uri": "https://localhost:8080/"
        },
        "outputId": "ecec579b-4d07-4647-d2b9-6c48a83ce786"
      },
      "execution_count": 18,
      "outputs": [
        {
          "output_type": "stream",
          "name": "stdout",
          "text": [
            "These features have no variance and should be dropped:\n",
            "Z_CostContact\n",
            "Z_Revenue\n",
            "\n",
            "27 columns remain in the DataFrame\n"
          ]
        }
      ]
    },
    {
      "cell_type": "markdown",
      "source": [
        "## 4. Add a new column (15pts)\n",
        "\n",
        "* Add a new column **Customer_Days** to store the total number of days each customer has been with the company. You may follow the steps below:\n",
        "  * use `pd.to_datetime(df[\"Dt_Customer\"])` to convert the string variable to a *date-time* variable\n",
        "\n",
        "  * use `today = datetime.today()` to find the date of today\n",
        "\n",
        "  * use `(today - df[\"Dt_Customer\"]).dt.days` to find the difference between today and the onbard date."
      ],
      "metadata": {
        "id": "iiT7AKvGTI5w"
      }
    },
    {
      "cell_type": "code",
      "source": [
        "from datetime import datetime\n",
        "df_customers[\"Dt_Customer\"] = pd.to_datetime(df_customers[\"Dt_Customer\"], format='mixed')\n",
        "today = datetime.today()\n",
        "df_customers['Customer_Days'] = (today - df_customers[\"Dt_Customer\"]).dt.days"
      ],
      "metadata": {
        "id": "uas4fiH8RSOz"
      },
      "execution_count": 19,
      "outputs": []
    },
    {
      "cell_type": "code",
      "source": [
        "df_customers['Customer_Days']"
      ],
      "metadata": {
        "colab": {
          "base_uri": "https://localhost:8080/",
          "height": 458
        },
        "id": "LCFPLrrr8J22",
        "outputId": "d7905d7e-a687-4fa6-9e0e-28c4f5fb8b85"
      },
      "execution_count": 20,
      "outputs": [
        {
          "output_type": "execute_result",
          "data": {
            "text/plain": [
              "0       4943\n",
              "1       4097\n",
              "2       4444\n",
              "3       4037\n",
              "4       4293\n",
              "        ... \n",
              "2235    4513\n",
              "2236    4033\n",
              "2237    4287\n",
              "2238    4288\n",
              "2239    4754\n",
              "Name: Customer_Days, Length: 2240, dtype: int64"
            ],
            "text/html": [
              "<div>\n",
              "<style scoped>\n",
              "    .dataframe tbody tr th:only-of-type {\n",
              "        vertical-align: middle;\n",
              "    }\n",
              "\n",
              "    .dataframe tbody tr th {\n",
              "        vertical-align: top;\n",
              "    }\n",
              "\n",
              "    .dataframe thead th {\n",
              "        text-align: right;\n",
              "    }\n",
              "</style>\n",
              "<table border=\"1\" class=\"dataframe\">\n",
              "  <thead>\n",
              "    <tr style=\"text-align: right;\">\n",
              "      <th></th>\n",
              "      <th>Customer_Days</th>\n",
              "    </tr>\n",
              "  </thead>\n",
              "  <tbody>\n",
              "    <tr>\n",
              "      <th>0</th>\n",
              "      <td>4943</td>\n",
              "    </tr>\n",
              "    <tr>\n",
              "      <th>1</th>\n",
              "      <td>4097</td>\n",
              "    </tr>\n",
              "    <tr>\n",
              "      <th>2</th>\n",
              "      <td>4444</td>\n",
              "    </tr>\n",
              "    <tr>\n",
              "      <th>3</th>\n",
              "      <td>4037</td>\n",
              "    </tr>\n",
              "    <tr>\n",
              "      <th>4</th>\n",
              "      <td>4293</td>\n",
              "    </tr>\n",
              "    <tr>\n",
              "      <th>...</th>\n",
              "      <td>...</td>\n",
              "    </tr>\n",
              "    <tr>\n",
              "      <th>2235</th>\n",
              "      <td>4513</td>\n",
              "    </tr>\n",
              "    <tr>\n",
              "      <th>2236</th>\n",
              "      <td>4033</td>\n",
              "    </tr>\n",
              "    <tr>\n",
              "      <th>2237</th>\n",
              "      <td>4287</td>\n",
              "    </tr>\n",
              "    <tr>\n",
              "      <th>2238</th>\n",
              "      <td>4288</td>\n",
              "    </tr>\n",
              "    <tr>\n",
              "      <th>2239</th>\n",
              "      <td>4754</td>\n",
              "    </tr>\n",
              "  </tbody>\n",
              "</table>\n",
              "<p>2240 rows × 1 columns</p>\n",
              "</div><br><label><b>dtype:</b> int64</label>"
            ]
          },
          "metadata": {},
          "execution_count": 20
        }
      ]
    },
    {
      "cell_type": "markdown",
      "source": [
        "## 5. Categorical Features (15 pts)\n",
        "\n",
        "* For `Education` and `Marital_Status`,\n",
        "\n",
        "  * find how many customers fall into each category\n",
        "  * create pie charts to show the percentage of each category; make sure to show the percentage numbers on the chart with 2 decimal places\n",
        "\n",
        "* What do you findings suggest about the company's target demographic?"
      ],
      "metadata": {
        "id": "npCTWRGiPeaT"
      }
    },
    {
      "cell_type": "code",
      "metadata": {
        "colab": {
          "base_uri": "https://localhost:8080/"
        },
        "id": "cc10abde",
        "outputId": "6647255d-eb3d-4904-d3a7-50d5715aa8be"
      },
      "source": [
        "education_counts = df_customers['Education'].value_counts()\n",
        "print(\"Customer counts by Education level:\")\n",
        "print(education_counts)"
      ],
      "execution_count": 7,
      "outputs": [
        {
          "output_type": "stream",
          "name": "stdout",
          "text": [
            "Customer counts by Education level:\n",
            "Education\n",
            "Graduation    1127\n",
            "PhD            486\n",
            "Master         370\n",
            "2n Cycle       203\n",
            "Basic           54\n",
            "Name: count, dtype: int64\n"
          ]
        }
      ]
    },
    {
      "cell_type": "code",
      "metadata": {
        "colab": {
          "base_uri": "https://localhost:8080/"
        },
        "id": "826bc875",
        "outputId": "69d0f0fd-fd65-427b-a8d7-1753c422ec13"
      },
      "source": [
        "marital_status_counts = df_customers['Marital_Status'].value_counts()\n",
        "print(\"\\nCustomer counts by Marital Status:\")\n",
        "print(marital_status_counts)"
      ],
      "execution_count": 8,
      "outputs": [
        {
          "output_type": "stream",
          "name": "stdout",
          "text": [
            "\n",
            "Customer counts by Marital Status:\n",
            "Marital_Status\n",
            "Married     864\n",
            "Together    580\n",
            "Single      480\n",
            "Divorced    232\n",
            "Widow        77\n",
            "Alone         3\n",
            "Absurd        2\n",
            "YOLO          2\n",
            "Name: count, dtype: int64\n"
          ]
        }
      ]
    },
    {
      "cell_type": "code",
      "metadata": {
        "colab": {
          "base_uri": "https://localhost:8080/",
          "height": 1000
        },
        "id": "e84fbcb8",
        "outputId": "5ae537f0-954d-4444-ec96-b242811ab15b"
      },
      "source": [
        "import matplotlib.pyplot as plt\n",
        "\n",
        "# Pie chart for Education\n",
        "plt.figure(figsize=(8, 8))\n",
        "plt.pie(education_counts, labels=education_counts.index, autopct='%1.2f%%', startangle=140)\n",
        "plt.title('Distribution of Customers by Education Level')\n",
        "plt.axis('equal')\n",
        "plt.show()\n",
        "\n",
        "# Pie chart for Marital Status\n",
        "plt.figure(figsize=(8, 8))\n",
        "plt.pie(marital_status_counts, labels=marital_status_counts.index, autopct='%1.2f%%', startangle=140)\n",
        "plt.title('Distribution of Customers by Marital Status')\n",
        "plt.axis('equal')\n",
        "plt.show()"
      ],
      "execution_count": 9,
      "outputs": [
        {
          "output_type": "display_data",
          "data": {
            "text/plain": [
              "<Figure size 800x800 with 1 Axes>"
            ],
            "image/png": "[encoded data removed]"
          },
          "metadata": {}
        },
        {
          "output_type": "display_data",
          "data": {
            "text/plain": [
              "<Figure size 800x800 with 1 Axes>"
            ],
            "image/png": "[encoded data removed]"
          },
          "metadata": {}
        }
      ]
    },
    {
      "cell_type": "markdown",
      "source": [
        "Education: The largest group of customers has a Graduation degree, followed by PhD and Master degrees.\n",
        "\n",
        "Marital Status: The majority of customers are either Married or Together, indicating the target is people in committed relationships. There is also a large number of Single and Divorced customers.\n",
        "\n",
        "Based on the customer counts and pie charts for Education and Marital Status, we can assume that Nata Supermarkets appears to primarily target highly educated individuals who have graduated some sort of school, with a strong presence of customers who are married or together."
      ],
      "metadata": {
        "id": "QTryo2tdr9CY"
      }
    },
    {
      "cell_type": "markdown",
      "source": [
        "## 6. Numeric Variables (15pts)\n",
        "\n",
        "* For `Income`, `Kidhome`, and `Teenhome`,\n",
        "  * use boxplots to visualize their distributions.\n",
        "\n",
        "* Based on these distributions, what can you say about the typical household profile of Nata's customers?"
      ],
      "metadata": {
        "id": "-PttlypqR-FN"
      }
    },
    {
      "cell_type": "code",
      "metadata": {
        "colab": {
          "base_uri": "https://localhost:8080/",
          "height": 1000
        },
        "id": "2009f0f1",
        "outputId": "27a8ebb8-8df8-4a46-8585-a4dc21ae938d"
      },
      "source": [
        "import matplotlib.pyplot as plt\n",
        "import seaborn as sns\n",
        "\n",
        "# Boxplot for Income\n",
        "plt.figure(figsize=(8, 6))\n",
        "sns.boxplot(y=df_customers['Income'])\n",
        "plt.title('Distribution of Income')\n",
        "plt.ylabel('Income')\n",
        "plt.show()\n",
        "\n",
        "# Boxplot for Kidhome\n",
        "plt.figure(figsize=(6, 4))\n",
        "sns.boxplot(y=df_customers['Kidhome'])\n",
        "plt.title('Distribution of Kidhome')\n",
        "plt.ylabel('Number of Kids at Home')\n",
        "plt.show()\n",
        "\n",
        "# Boxplot for Teenhome\n",
        "plt.figure(figsize=(6, 4))\n",
        "sns.boxplot(y=df_customers['Teenhome'])\n",
        "plt.title('Distribution of Teenhome')\n",
        "plt.ylabel('Number of Teens at Home')\n",
        "plt.show()"
      ],
      "execution_count": 10,
      "outputs": [
        {
          "output_type": "display_data",
          "data": {
            "text/plain": [
              "<Figure size 800x600 with 1 Axes>"
            ],
            "image/png": "[encoded data removed]"
          },
          "metadata": {}
        },
        {
          "output_type": "display_data",
          "data": {
            "text/plain": [
              "<Figure size 600x400 with 1 Axes>"
            ],
            "image/png": "[encoded data removed]"
          },
          "metadata": {}
        },
        {
          "output_type": "display_data",
          "data": {
            "text/plain": [
              "<Figure size 600x400 with 1 Axes>"
            ],
            "image/png": "[encoded data removed]"
          },
          "metadata": {}
        }
      ]
    },
    {
      "cell_type": "markdown",
      "source": [
        "Income: The boxplot for Income shows a wide range of incomes, with the median income appearing in the moderate to high range. There are also some outliers with higher incomes. This suggests that Nata Supermarkets mostly caters to customers who have higher earning potential.\n",
        "\n",
        "Kidhome: The boxplot for Kidhome indicates that a large number of customers have no children at home, with some customers who have one child. This suggests that households with young children are less prevalent among Nata's customers compared to those without.\n",
        "\n",
        "Teenhome: Similiar to Kidhome, the boxplot for Teenhome shows that many customers have no teenagers at home, with some customers who have one child. This suggests that households with teenagers are also present, but households without teenagers are more common.\n",
        "\n",
        "Based on the boxplots for Income, Kidhome, and Teenhome, we can see that the typical household profile appears to be one with moderate to high income, and more likely to have no young children at home. Households with teenagers are also represented, but less so than those without young children."
      ],
      "metadata": {
        "id": "CjXTxeHsvaLO"
      }
    },
    {
      "cell_type": "markdown",
      "source": [
        "## 7. Spending by Products (15pts)\n",
        "\n",
        "* Examine the spending amount columns `MntWines`,\t`MntFruits`,\t`MntMeatProducts`,\t`MntFishProducts`,\t`MntSweetProducts`,\t`MntGoldProds`, and find the product with the highest total spending amount by all customers.\n",
        "\n"
      ],
      "metadata": {
        "id": "ilLuuetiTFua"
      }
    },
    {
      "cell_type": "code",
      "source": [
        "spending_columns = ['MntWines', 'MntFruits', 'MntMeatProducts', 'MntFishProducts', 'MntSweetProducts', 'MntGoldProds']\n",
        "total_spending = df_customers[spending_columns].sum()\n",
        "\n",
        "highest_spending_product = total_spending.idxmax()\n",
        "highest_spending_amount = total_spending.max()\n",
        "\n",
        "print(\"Total spending by product category:\")\n",
        "print(total_spending)\n",
        "print(f\"\\nProduct with the highest total spending: {highest_spending_product}\")\n",
        "print(f\"Highest total spending amount: {highest_spending_amount:.2f}\")"
      ],
      "metadata": {
        "id": "Sjo1pvxUWVqh",
        "colab": {
          "base_uri": "https://localhost:8080/"
        },
        "outputId": "54b3f97b-8b26-4f16-ab29-69952a4879d3"
      },
      "execution_count": 11,
      "outputs": [
        {
          "output_type": "stream",
          "name": "stdout",
          "text": [
            "Total spending by product category:\n",
            "MntWines            680816\n",
            "MntFruits            58917\n",
            "MntMeatProducts     373968\n",
            "MntFishProducts      84057\n",
            "MntSweetProducts     60621\n",
            "MntGoldProds         98609\n",
            "dtype: int64\n",
            "\n",
            "Product with the highest total spending: MntWines\n",
            "Highest total spending amount: 680816.00\n"
          ]
        }
      ]
    },
    {
      "cell_type": "markdown",
      "source": [
        "## 8. Use of Gen. AI (2pts)\n",
        "\n",
        "Use of Generative AI is allowed. Briefly describe if and how you have used Gen. AI tools in this assignment."
      ],
      "metadata": {
        "id": "aMAKfon36poQ"
      }
    },
    {
      "cell_type": "markdown",
      "metadata": {
        "id": "57ac6fca"
      },
      "source": [
        "I have used Generative AI as a collaborative tool to assist with the tasks in this assignment. I have interpreted the instructions provided in the markdown cells, generated Python code to perform data loading, cleaning, analysis, and visualization, and provided explanations and interpretations of the results based on the data. I have also responded to requests for specific actions, such as creating plots or performing calculations."
      ]
    }
  ]
}